{
 "cells": [
  {
   "cell_type": "markdown",
   "id": "5476f409",
   "metadata": {},
   "source": [
    "# String Indexing\n",
    "\n",
    "#### We know strings are a sequence. which means Python can use indexes to call the sequence parts. Let's learn how String Indexing works. . We use brackets [] after an object to call its index. . We should also note that indexing starts at 0 for Python. Now . Let's create a new object called s and the walk through a few examples of indexing."
   ]
  },
  {
   "cell_type": "code",
   "execution_count": 2,
   "id": "7ec578dc",
   "metadata": {},
   "outputs": [
    {
     "name": "stdout",
     "output_type": "stream",
     "text": [
      "This Batch Rocks\n"
     ]
    }
   ],
   "source": [
    "# Assign s as a string\n",
    "s = 'This Batch Rocks'\n",
    "\n",
    "# print the object\n",
    "print(s)"
   ]
  },
  {
   "cell_type": "markdown",
   "id": "7940ecba",
   "metadata": {},
   "source": [
    "# Let's start Indexing!\n",
    "\n",
    "\n",
    "# This              Batch            Rocks\n",
    "# 0123     4        56789    10     1112131415"
   ]
  },
  {
   "cell_type": "code",
   "execution_count": 2,
   "id": "b0796c4f",
   "metadata": {},
   "outputs": [
    {
     "name": "stdout",
     "output_type": "stream",
     "text": [
      "This Batch Rocks\n"
     ]
    }
   ],
   "source": [
    "# Assign s as a string\n",
    "s = 'This Batch Rocks'\n",
    "\n",
    "# print the object\n",
    "print(s)"
   ]
  },
  {
   "cell_type": "code",
   "execution_count": 3,
   "id": "25512d16",
   "metadata": {},
   "outputs": [
    {
     "data": {
      "text/plain": [
       "'T'"
      ]
     },
     "execution_count": 3,
     "metadata": {},
     "output_type": "execute_result"
    }
   ],
   "source": [
    "# Show first element (in this case a letter)\n",
    "s[0]"
   ]
  },
  {
   "cell_type": "markdown",
   "id": "d1cadc96",
   "metadata": {},
   "source": [
    "#### We can use a : to perform slicing which grabs everything up to a designated point. For example."
   ]
  },
  {
   "cell_type": "code",
   "execution_count": 4,
   "id": "d1e1e1b5",
   "metadata": {},
   "outputs": [
    {
     "data": {
      "text/plain": [
       "'his Batch Rocks'"
      ]
     },
     "execution_count": 4,
     "metadata": {},
     "output_type": "execute_result"
    }
   ],
   "source": [
    "# Grab everything past the first term all the way to the length of s which is len(s)\n",
    "s[1:]"
   ]
  },
  {
   "cell_type": "code",
   "execution_count": 5,
   "id": "91a679e3",
   "metadata": {},
   "outputs": [
    {
     "data": {
      "text/plain": [
       "'s Bat'"
      ]
     },
     "execution_count": 5,
     "metadata": {},
     "output_type": "execute_result"
    }
   ],
   "source": [
    "s[3:8]"
   ]
  },
  {
   "cell_type": "markdown",
   "id": "aa9693f6",
   "metadata": {},
   "source": [
    "#### We can also use negative to go backwards."
   ]
  },
  {
   "cell_type": "code",
   "execution_count": 6,
   "id": "36279df2",
   "metadata": {},
   "outputs": [
    {
     "data": {
      "text/plain": [
       "'This Batch Rock'"
      ]
     },
     "execution_count": 6,
     "metadata": {},
     "output_type": "execute_result"
    }
   ],
   "source": [
    "# Last Letter (one index behind 0 so it loops back around)\n",
    "s[:-1]"
   ]
  },
  {
   "cell_type": "code",
   "execution_count": 7,
   "id": "02eaf3c0",
   "metadata": {},
   "outputs": [
    {
     "data": {
      "text/plain": [
       "'This Batch Rock'"
      ]
     },
     "execution_count": 7,
     "metadata": {},
     "output_type": "execute_result"
    }
   ],
   "source": [
    "# Grab everything but the last letter\n",
    "s[:-1]"
   ]
  },
  {
   "cell_type": "markdown",
   "id": "74cc2408",
   "metadata": {},
   "source": [
    "##### Index and slice notation is used to grab elements of a sequenec by a specified step size (where in 1 is the default size). For instance we can use two colons in a row and then a number specifying the frequency to grab elements. For example:"
   ]
  },
  {
   "cell_type": "code",
   "execution_count": 9,
   "id": "3c86f0a6",
   "metadata": {},
   "outputs": [
    {
     "data": {
      "text/plain": [
       "'Ti ac ok'"
      ]
     },
     "execution_count": 9,
     "metadata": {},
     "output_type": "execute_result"
    }
   ],
   "source": [
    "# Grab everything, but go in steps size of 2\n",
    "s[::2]"
   ]
  },
  {
   "cell_type": "code",
   "execution_count": 10,
   "id": "3cc614a6",
   "metadata": {},
   "outputs": [
    {
     "data": {
      "text/plain": [
       "'scRhtBsh'"
      ]
     },
     "execution_count": 10,
     "metadata": {},
     "output_type": "execute_result"
    }
   ],
   "source": [
    "# Grab everything, but go in step sizes of 2 from backword direction because of -ve sign\n",
    "s[::-2]"
   ]
  },
  {
   "cell_type": "code",
   "execution_count": null,
   "id": "d6fd843d",
   "metadata": {},
   "outputs": [],
   "source": []
  }
 ],
 "metadata": {
  "kernelspec": {
   "display_name": "Python 3 (ipykernel)",
   "language": "python",
   "name": "python3"
  },
  "language_info": {
   "codemirror_mode": {
    "name": "ipython",
    "version": 3
   },
   "file_extension": ".py",
   "mimetype": "text/x-python",
   "name": "python",
   "nbconvert_exporter": "python",
   "pygments_lexer": "ipython3",
   "version": "3.9.12"
  }
 },
 "nbformat": 4,
 "nbformat_minor": 5
}
